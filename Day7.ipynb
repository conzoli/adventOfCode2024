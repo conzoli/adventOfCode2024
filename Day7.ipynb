{
 "cells": [
  {
   "cell_type": "markdown",
   "id": "ba160b5f-8b60-447a-b6fa-3bd89daca329",
   "metadata": {},
   "source": [
    "# Day 7 "
   ]
  },
  {
   "cell_type": "code",
   "execution_count": 5,
   "id": "4ba3bc84",
   "metadata": {},
   "outputs": [
    {
     "name": "stdout",
     "output_type": "stream",
     "text": [
      "Total calibration result: 5540634308362\n"
     ]
    }
   ],
   "source": [
    "from itertools import product\n",
    "\n",
    "def evaluate_expression(numbers, operators):\n",
    "    # Start with the first number\n",
    "    result = numbers[0]\n",
    "    \n",
    "    # Evaluate the expression left-to-right\n",
    "    for i in range(len(operators)):\n",
    "        if operators[i] == '+':\n",
    "            result += numbers[i + 1]\n",
    "        elif operators[i] == '*':\n",
    "            result *= numbers[i + 1]\n",
    "    \n",
    "    return result\n",
    "\n",
    "def can_form_test_value(test_value, numbers):\n",
    "    # Generate all possible combinations of operators\n",
    "    num_operators = len(numbers) - 1\n",
    "    for operators in product(['+', '*'], repeat=num_operators):\n",
    "        if evaluate_expression(numbers, operators) == test_value:\n",
    "            return True\n",
    "    return False\n",
    "\n",
    "def total_calibration_result(equations):\n",
    "    total_sum = 0\n",
    "    \n",
    "    for equation in equations:\n",
    "        parts = equation.split(': ')\n",
    "        test_value = int(parts[0])\n",
    "        numbers = list(map(int, parts[1].split()))\n",
    "        \n",
    "        if can_form_test_value(test_value, numbers):\n",
    "            total_sum += test_value\n",
    "    \n",
    "    return total_sum\n",
    "\n",
    "# Example input\n",
    "equations = [\n",
    "    \"190: 10 19\",\n",
    "    \"3267: 81 40 27\",\n",
    "    \"83: 17 5\",\n",
    "    \"156: 15 6\",\n",
    "    \"7290: 6 8 6 15\",\n",
    "    \"161011: 16 10 13\",\n",
    "    \"192: 17 8 14\",\n",
    "    \"21037: 9 7 18 13\",\n",
    "    \"292: 11 6 16 20\"\n",
    "]\n",
    "\n",
    "inputEquations = []\n",
    "\n",
    "with(open(\"Input/InputDay7P1.txt\", \"r\")) as f:\n",
    "    for line in f:\n",
    "        inputEquations.append(line.strip())\n",
    "\n",
    "result = total_calibration_result(inputEquations)\n",
    "print(\"Total calibration result:\", result)"
   ]
  },
  {
   "cell_type": "markdown",
   "id": "38ec5be9",
   "metadata": {},
   "source": [
    "# Part 2"
   ]
  },
  {
   "cell_type": "code",
   "execution_count": 8,
   "id": "a4e29d16",
   "metadata": {},
   "outputs": [
    {
     "name": "stdout",
     "output_type": "stream",
     "text": [
      "Total calibration result: 472290821152397\n"
     ]
    }
   ],
   "source": [
    "from itertools import product\n",
    "\n",
    "def evaluate_expression(numbers, operators):\n",
    "    # Start with the first number\n",
    "    result = numbers[0]\n",
    "    \n",
    "    # Evaluate the expression left-to-right\n",
    "    for i in range(len(operators)):\n",
    "        if operators[i] == '+':\n",
    "            result += numbers[i + 1]\n",
    "        elif operators[i] == '*':\n",
    "            result *= numbers[i + 1]\n",
    "        elif operators[i] == '||':\n",
    "            result = int(str(result) + str(numbers[i + 1]))\n",
    "    \n",
    "    return result\n",
    "\n",
    "def can_form_test_value(test_value, numbers):\n",
    "    # Generate all possible combinations of operators\n",
    "    num_operators = len(numbers) - 1\n",
    "    for operators in product(['+', '*', '||'], repeat=num_operators):\n",
    "        if evaluate_expression(numbers, operators) == test_value:\n",
    "            return True\n",
    "    return False\n",
    "\n",
    "def total_calibration_result(equations):\n",
    "    total_sum = 0\n",
    "    \n",
    "    for equation in equations:\n",
    "        parts = equation.split(': ')\n",
    "        test_value = int(parts[0])\n",
    "        numbers = list(map(int, parts[1].split()))\n",
    "        \n",
    "        if can_form_test_value(test_value, numbers):\n",
    "            total_sum += test_value\n",
    "    \n",
    "    return total_sum\n",
    "\n",
    "# Example input\n",
    "equations = [\n",
    "    \"190: 10 19\",\n",
    "    \"3267: 81 40 27\",\n",
    "    \"83: 17 5\",\n",
    "    \"156: 15 6\",\n",
    "    \"7290: 6 8 6 15\",\n",
    "    \"161011: 16 10 13\",\n",
    "    \"192: 17 8 14\",\n",
    "    \"21037: 9 7 18 13\",\n",
    "    \"292: 11 6 16 20\"\n",
    "]\n",
    "\n",
    "result = total_calibration_result(inputEquations)\n",
    "print(\"Total calibration result:\", result)"
   ]
  }
 ],
 "metadata": {
  "kernelspec": {
   "display_name": "venv",
   "language": "python",
   "name": "python3"
  },
  "language_info": {
   "codemirror_mode": {
    "name": "ipython",
    "version": 3
   },
   "file_extension": ".py",
   "mimetype": "text/x-python",
   "name": "python",
   "nbconvert_exporter": "python",
   "pygments_lexer": "ipython3",
   "version": "3.12.3"
  }
 },
 "nbformat": 4,
 "nbformat_minor": 5
}
