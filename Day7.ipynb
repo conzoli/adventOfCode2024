{
 "cells": [
  {
   "cell_type": "code",
   "execution_count": null,
   "id": "ba160b5f-8b60-447a-b6fa-3bd89daca329",
   "metadata": {},
   "outputs": [],
   "source": []
  }
 ],
 "metadata": {
  "kernelspec": {
   "display_name": "",
   "name": ""
  },
  "language_info": {
   "name": ""
  }
 },
 "nbformat": 4,
 "nbformat_minor": 5
}
