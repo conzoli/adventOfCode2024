{
 "cells": [
  {
   "cell_type": "code",
   "execution_count": 1,
   "id": "66c5e5ab-bfd6-4344-aceb-061ef7b50314",
   "metadata": {},
   "outputs": [
    {
     "name": "stdout",
     "output_type": "stream",
     "text": [
      "Hello World!\n"
     ]
    }
   ],
   "source": [
    "print(\"Hello World!\")"
   ]
  },
  {
   "cell_type": "code",
   "execution_count": 2,
   "id": "9881a8de-1099-4502-8a89-eb1f7d9a99c5",
   "metadata": {},
   "outputs": [],
   "source": [
    "def fibonacci(n):\n",
    "    if n <= 1:\n",
    "        return n\n",
    "    else:\n",
    "        return fibonacci(n-1) + fibonacci(n-2)\n"
   ]
  },
  {
   "cell_type": "code",
   "execution_count": 3,
   "id": "7bfe28f4",
   "metadata": {},
   "outputs": [
    {
     "name": "stdout",
     "output_type": "stream",
     "text": [
      "55\n"
     ]
    }
   ],
   "source": [
    "def fibonacci_iterative(n):\n",
    "    if n <= 0:\n",
    "        return 0\n",
    "    elif n == 1:\n",
    "        return 1\n",
    "\n",
    "    prev, curr = 0, 1\n",
    "    for _ in range(2, n + 1):\n",
    "        next_val = prev + curr\n",
    "        prev, curr = curr, next_val\n",
    "    \n",
    "    return curr\n",
    "\n",
    "# Example usage:\n",
    "print(fibonacci_iterative(10))  # Output: 55"
   ]
  },
  {
   "cell_type": "code",
   "execution_count": 5,
   "id": "36da12c3",
   "metadata": {},
   "outputs": [
    {
     "data": {
      "text/plain": [
       "354224848179261915075"
      ]
     },
     "execution_count": 5,
     "metadata": {},
     "output_type": "execute_result"
    }
   ],
   "source": [
    "# fibonacci((100))\n",
    "fibonacci_iterative(100)"
   ]
  },
  {
   "cell_type": "code",
   "execution_count": 6,
   "id": "18c49e5c",
   "metadata": {},
   "outputs": [
    {
     "name": "stdout",
     "output_type": "stream",
     "text": [
      "['1']\n",
      "['2']\n",
      "['3']\n",
      "['4', '4.1', '4.2']\n",
      "['5']\n"
     ]
    }
   ],
   "source": [
    "# Define the path to the file\n",
    "file_path = 'Input/TestInputEnvTest.txt'\n",
    "\n",
    "# Initialize an empty list to store all lines\n",
    "all_lines = []\n",
    "\n",
    "# Open the file and read its contents line by line\n",
    "with open(file_path, 'r') as file:\n",
    "    for line in file:\n",
    "        # Strip newline characters and split the line by commas\n",
    "        values = line.strip().split(',')\n",
    "        # Append the list of values to the all_lines list\n",
    "        all_lines.append(values)\n",
    "\n",
    "# Now 'all_lines' contains a list of lists, each representing a row with its corresponding values\n",
    "for line in all_lines:\n",
    "    print(line)"
   ]
  },
  {
   "cell_type": "code",
   "execution_count": 7,
   "id": "c22b9e8d",
   "metadata": {},
   "outputs": [
    {
     "name": "stdout",
     "output_type": "stream",
     "text": [
      "4.1\n"
     ]
    }
   ],
   "source": [
    "print(all_lines[3][1])"
   ]
  }
 ],
 "metadata": {
  "kernelspec": {
   "display_name": "venv",
   "language": "python",
   "name": "python3"
  },
  "language_info": {
   "codemirror_mode": {
    "name": "ipython",
    "version": 3
   },
   "file_extension": ".py",
   "mimetype": "text/x-python",
   "name": "python",
   "nbconvert_exporter": "python",
   "pygments_lexer": "ipython3",
   "version": "3.12.3"
  }
 },
 "nbformat": 4,
 "nbformat_minor": 5
}
