{
 "cells": [
  {
   "cell_type": "markdown",
   "id": "a29aa1ea-d0b2-49d6-9c13-a84b73e892a8",
   "metadata": {},
   "source": [
    "# Day 4 Part 1"
   ]
  },
  {
   "cell_type": "code",
   "execution_count": 16,
   "id": "d3ba978a",
   "metadata": {},
   "outputs": [
    {
     "name": "stdout",
     "output_type": "stream",
     "text": [
      "2591\n"
     ]
    }
   ],
   "source": [
    "def count_occurrences(grid):\n",
    "    rows = len(grid)\n",
    "    cols = len(grid[0]) if rows > 0 else 0\n",
    "    \n",
    "    def search_word(x, y, dx, dy):\n",
    "        word = 'XMAS'\n",
    "        for i in range(len(word)):\n",
    "            nx, ny = x + i * dx, y + i * dy\n",
    "            if not (0 <= nx < rows and 0 <= ny < cols) or grid[nx][ny] != word[i]:\n",
    "                return False\n",
    "        return True\n",
    "    \n",
    "    count = 0\n",
    "    for x in range(rows):\n",
    "        for y in range(cols):\n",
    "            if search_word(x, y, 0, 1): # Horizontal\n",
    "                count += 1\n",
    "            if search_word(x, y, 1, 0): # Vertical\n",
    "                count += 1\n",
    "            if search_word(x, y, 1, 1): # Diagonal down-right\n",
    "                count += 1\n",
    "            if search_word(x, y, -1, -1): # Diagonal up-left\n",
    "                count += 1\n",
    "            if search_word(x, y, 1, -1): # Diagonal down-left\n",
    "                count += 1\n",
    "            if search_word(x, y, -1, 1): # Diagonal up-right\n",
    "                count += 1\n",
    "            if search_word(x, y, -1, 0): # Anti-diagonal down-right\n",
    "                count += 1\n",
    "            if search_word(x, y, 0, -1): # Anti-diagonal up-left\n",
    "                count += 1\n",
    "    \n",
    "    return count\n",
    "\n",
    "# Example word search grid\n",
    "grid = [\n",
    "    \"MMMSXXMASM\",\n",
    "    \"MSAMXMSMSA\",\n",
    "    \"AMXSXMAAMM\",\n",
    "    \"MSAMASMSMX\",\n",
    "    \"XMASAMXAMM\",\n",
    "    \"XXAMMXXAMA\",\n",
    "    \"SMSMSASXSS\",\n",
    "    \"SAXAMASAAA\",\n",
    "    \"MAMMMXMMMM\",\n",
    "    \"MXMXAXMASX\"\n",
    "]\n",
    "\n",
    "inputGrid = []\n",
    "\n",
    "with open('Input/InputDay4P1.txt', 'r') as file:\n",
    "    for line in file:\n",
    "        inputGrid.append(line.strip())\n",
    "\n",
    "\n",
    "\n",
    "\n",
    "# Call the function and print the result\n",
    "print(count_occurrences(inputGrid))  # Output should be 434"
   ]
  },
  {
   "cell_type": "markdown",
   "id": "cc5de7ff",
   "metadata": {},
   "source": [
    "# Part TWO"
   ]
  },
  {
   "cell_type": "code",
   "execution_count": 2,
   "id": "6ea0275f",
   "metadata": {},
   "outputs": [
    {
     "name": "stdout",
     "output_type": "stream",
     "text": [
      "2591\n",
      "1880\n"
     ]
    }
   ],
   "source": [
    "FILENAME = \"Input/InputDay4P1.txt\"\n",
    "SEARCH_WORD = \"XMAS\"\n",
    "SEARCH_WORDS_PART_TWO = {\"MAS\", \"SAM\"}\n",
    "CENTER_CHAR = \"A\"\n",
    "OFFSET_ROW = [-1, -1, -1, 0, 0, 1, 1, 1]\n",
    "OFFSET_COL = [-1, 0, 1, -1, 1, -1, 0, 1]\n",
    "\n",
    "\n",
    "def part_one(matrix):\n",
    "    return sum(\n",
    "        check_directions(matrix, i, j)\n",
    "        for i, row in enumerate(matrix)\n",
    "        for j, char in enumerate(row)\n",
    "        if char == SEARCH_WORD[0]\n",
    "    )\n",
    "\n",
    "\n",
    "def is_valid(matrix, row, col):\n",
    "    return 0 <= row < len(matrix) and 0 <= col < len(matrix[0])\n",
    "\n",
    "\n",
    "def create_word(matrix, pos, offset):\n",
    "    row, col = pos\n",
    "    dr, dc = offset\n",
    "    return \"\".join(\n",
    "        matrix[row + dr * i][col + dc * i]\n",
    "        for i in range(len(SEARCH_WORD))\n",
    "        if is_valid(matrix, row + dr * i, col + dc * i)\n",
    "    )\n",
    "\n",
    "\n",
    "def check_directions(matrix, row, col):\n",
    "    score = 0\n",
    "    for dr, dc in zip(OFFSET_ROW, OFFSET_COL):\n",
    "        if create_word(matrix, (row, col), (dr, dc)) == SEARCH_WORD:\n",
    "            score += 1\n",
    "    return score\n",
    "\n",
    "\n",
    "def create_words_part_two(matrix, r, c):\n",
    "    return {\n",
    "        matrix[r - 1][c - 1] + matrix[r][c] + matrix[r + 1][c + 1],\n",
    "        matrix[r - 1][c + 1] + matrix[r][c] + matrix[r + 1][c - 1],\n",
    "    }\n",
    "\n",
    "\n",
    "def part_two(matrix):\n",
    "    total = 0\n",
    "    for i in range(1, len(matrix) - 1):\n",
    "        for j in range(1, len(matrix[0]) - 1):\n",
    "            if (\n",
    "                matrix[i][j] == CENTER_CHAR\n",
    "                and create_words_part_two(matrix, i, j) <= SEARCH_WORDS_PART_TWO\n",
    "            ):\n",
    "                total += 1\n",
    "    return total\n",
    "\n",
    "\n",
    "def main():\n",
    "    with open(FILENAME, \"r\") as input_file:\n",
    "        matrix = input_file.read().split()\n",
    "    print(part_one(matrix))\n",
    "    print(part_two(matrix))\n",
    "\n",
    "\n",
    "if __name__ == \"__main__\":\n",
    "    main()\n"
   ]
  }
 ],
 "metadata": {
  "kernelspec": {
   "display_name": "venv",
   "language": "python",
   "name": "python3"
  },
  "language_info": {
   "codemirror_mode": {
    "name": "ipython",
    "version": 3
   },
   "file_extension": ".py",
   "mimetype": "text/x-python",
   "name": "python",
   "nbconvert_exporter": "python",
   "pygments_lexer": "ipython3",
   "version": "3.12.3"
  }
 },
 "nbformat": 4,
 "nbformat_minor": 5
}
