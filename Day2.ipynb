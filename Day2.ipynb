{
 "cells": [
  {
   "cell_type": "markdown",
   "id": "82c3bf9b",
   "metadata": {},
   "source": [
    "# Day 2 Part 1"
   ]
  },
  {
   "cell_type": "code",
   "execution_count": 5,
   "id": "e129da5f",
   "metadata": {},
   "outputs": [
    {
     "name": "stdout",
     "output_type": "stream",
     "text": [
      "Number of safe reports: 2\n"
     ]
    }
   ],
   "source": [
    "def is_safe_report_p1(report):\n",
    "    # Convert the report string into a list of integers\n",
    "    levels = list(map(int, report.split()))\n",
    "    \n",
    "    # Check if all levels are increasing or decreasing\n",
    "    increasing = all(levels[i] < levels[i + 1] for i in range(len(levels) - 1))\n",
    "    decreasing = all(levels[i] > levels[i + 1] for i in range(len(levels) - 1))\n",
    "    \n",
    "    if not (increasing or decreasing):\n",
    "        return False\n",
    "    \n",
    "    # Check the difference between adjacent levels\n",
    "    for i in range(len(levels) - 1):\n",
    "        if abs(levels[i] - levels[i + 1]) < 1 or abs(levels[i] - levels[i + 1]) > 3:\n",
    "            return False\n",
    "    \n",
    "    return True\n",
    "\n",
    "def count_safe_reports(data):\n",
    "    # Split the data into individual reports\n",
    "    reports = data.strip().split('\\n')\n",
    "    \n",
    "    # Count how many reports are safe\n",
    "    safe_count = sum(is_safe_report_p1(report) for report in reports)\n",
    "    \n",
    "    return safe_count\n",
    "\n",
    "# Example input\n",
    "data = \"\"\"\n",
    "7 6 4 2 1\n",
    "1 2 7 8 9\n",
    "9 7 6 2 1\n",
    "1 3 2 4 5\n",
    "8 6 4 4 1\n",
    "1 3 6 7 9\n",
    "\"\"\"\n",
    "\n",
    "# Get the number of safe reports\n",
    "safe_reports = count_safe_reports(data)\n",
    "print(f\"Number of safe reports: {safe_reports}\")"
   ]
  },
  {
   "cell_type": "code",
   "execution_count": 2,
   "id": "66e1aa0b",
   "metadata": {},
   "outputs": [
    {
     "name": "stdout",
     "output_type": "stream",
     "text": [
      "\n",
      "7 6 4 2 1\n",
      "1 2 7 8 9\n",
      "9 7 6 2 1\n",
      "1 3 2 4 5\n",
      "8 6 4 4 1\n",
      "1 3 6 7 9\n",
      "\n"
     ]
    }
   ],
   "source": [
    "print(data)"
   ]
  },
  {
   "cell_type": "code",
   "execution_count": null,
   "id": "a9564a3f",
   "metadata": {},
   "outputs": [],
   "source": [
    "inputData = \"\"\"\n",
    "\"\"\""
   ]
  },
  {
   "cell_type": "code",
   "execution_count": 9,
   "id": "26669fb1",
   "metadata": {},
   "outputs": [],
   "source": [
    "with open(\"Input/InputDay2P1.txt\", \"r\") as f:\n",
    "    inputData = f.read()"
   ]
  },
  {
   "cell_type": "code",
   "execution_count": 11,
   "id": "aad5a3b2",
   "metadata": {},
   "outputs": [
    {
     "name": "stdout",
     "output_type": "stream",
     "text": [
      "Number of safe reports: 549\n"
     ]
    }
   ],
   "source": [
    "safe_reports = count_safe_reports(inputData)\n",
    "print(f\"Number of safe reports: {safe_reports}\")"
   ]
  },
  {
   "cell_type": "markdown",
   "id": "dd148b29",
   "metadata": {},
   "source": [
    "# Part 2"
   ]
  },
  {
   "cell_type": "code",
   "execution_count": 6,
   "id": "01d61336",
   "metadata": {},
   "outputs": [
    {
     "name": "stdout",
     "output_type": "stream",
     "text": [
      "Number of safe reports with Problem Dampener: 4\n"
     ]
    }
   ],
   "source": [
    "def is_safe_report_p2(report):\n",
    "    levels = list(map(int, report.split()))\n",
    "    \n",
    "    increasing = all(levels[i] < levels[i + 1] for i in range(len(levels) - 1))\n",
    "    decreasing = all(levels[i] > levels[i + 1] for i in range(len(levels) - 1))\n",
    "    \n",
    "    if not (increasing or decreasing):\n",
    "        return False\n",
    "    \n",
    "    for i in range(len(levels) - 1):\n",
    "        if abs(levels[i] - levels[i + 1]) < 1 or abs(levels[i] - levels[i + 1]) > 3:\n",
    "            return False\n",
    "    \n",
    "    return True\n",
    "\n",
    "def remove_level_and_check_safety(report, index):\n",
    "    levels = list(map(int, report.split()))\n",
    "    removed_report = levels[:index] + levels[index + 1:]\n",
    "    \n",
    "    return is_safe_report_p2(' '.join(map(str, removed_report)))\n",
    "\n",
    "def count_safe_reports_with_dampener(data):\n",
    "    reports = data.strip().split('\\n')\n",
    "    safe_count = sum(is_safe_report_p2(report) or any(remove_level_and_check_safety(report, i) for i in range(len(report.split()))) for report in reports)\n",
    "    \n",
    "    return safe_count\n",
    "\n",
    "# Example input\n",
    "data = \"\"\"\n",
    "7 6 4 2 1\n",
    "1 2 7 8 9\n",
    "9 7 6 2 1\n",
    "1 3 2 4 5\n",
    "8 6 4 4 1\n",
    "1 3 6 7 9\n",
    "\"\"\"\n",
    "\n",
    "# Get the number of safe reports with dampener\n",
    "safe_reports_dampener = count_safe_reports_with_dampener(data)\n",
    "print(f\"Number of safe reports with Problem Dampener: {safe_reports_dampener}\")"
   ]
  },
  {
   "cell_type": "code",
   "execution_count": 12,
   "id": "8e258e18",
   "metadata": {},
   "outputs": [
    {
     "name": "stdout",
     "output_type": "stream",
     "text": [
      "Number of safe reports with Problem Dampener: 589\n"
     ]
    }
   ],
   "source": [
    "safe_reports_dampener = count_safe_reports_with_dampener(inputData)\n",
    "print(f\"Number of safe reports with Problem Dampener: {safe_reports_dampener}\")"
   ]
  }
 ],
 "metadata": {
  "kernelspec": {
   "display_name": "venv",
   "language": "python",
   "name": "python3"
  },
  "language_info": {
   "codemirror_mode": {
    "name": "ipython",
    "version": 3
   },
   "file_extension": ".py",
   "mimetype": "text/x-python",
   "name": "python",
   "nbconvert_exporter": "python",
   "pygments_lexer": "ipython3",
   "version": "3.12.3"
  }
 },
 "nbformat": 4,
 "nbformat_minor": 5
}
