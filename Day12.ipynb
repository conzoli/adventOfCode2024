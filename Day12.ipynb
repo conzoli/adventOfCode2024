{
 "cells": [
  {
   "cell_type": "markdown",
   "id": "f0355e34-56b2-4984-9a70-d490cc118807",
   "metadata": {},
   "source": [
    "# Day 12"
   ]
  },
  {
   "cell_type": "code",
   "execution_count": null,
   "id": "73914121",
   "metadata": {},
   "outputs": [],
   "source": []
  },
  {
   "cell_type": "markdown",
   "id": "89b5d75b",
   "metadata": {},
   "source": [
    "# Part 2"
   ]
  },
  {
   "cell_type": "code",
   "execution_count": 37,
   "id": "264268ba",
   "metadata": {},
   "outputs": [
    {
     "name": "stdout",
     "output_type": "stream",
     "text": [
      "part1_total=1,477,924\n",
      "part2_total=841,934\n"
     ]
    }
   ],
   "source": [
    "import sys\n",
    "\n",
    "with open('input/12') as f:\n",
    "    plotmap = {(x, y): plot for y, line in enumerate(f.read().splitlines()) for x, plot in enumerate(line)}\n",
    "\n",
    "painted = set()\n",
    "def paintregion(plot, x, y, region):\n",
    "    region.add((x, y))\n",
    "    painted.add((x, y))\n",
    "    for dx, dy in (0, -1), (1, 0), (0, 1), (-1, 0):\n",
    "        if (x+dx, y+dy) not in painted and plotmap.get((x+dx, y+dy)) == plot:\n",
    "            paintregion(plot, x+dx, y+dy, region)\n",
    "\n",
    "p1 = 0\n",
    "p2 = 0\n",
    "for (x, y), plot in plotmap.items():\n",
    "    if (x, y) not in painted:\n",
    "        region = set()\n",
    "        paintregion(plot, x, y, region)\n",
    "        perimeter = set((x+dx, y+dy, dx, dy)\n",
    "                        for x, y in region\n",
    "                        for dx, dy in ((0, -1), (1, 0), (0, 1), (-1, 0))\n",
    "                        if (x+dx, y+dy) not in region)\n",
    "        p1 += len(region)*len(perimeter)\n",
    "\n",
    "        sides = 0\n",
    "        while perimeter:\n",
    "            sides += 1\n",
    "            sx, sy, sdx, sdy = perimeter.pop()\n",
    "            for dx, dy in (sdy, sdx), (-sdy, -sdx):\n",
    "                x, y = sx+dx, sy+dy\n",
    "                while (x, y, sdx, sdy) in perimeter:\n",
    "                    perimeter.remove((x, y, sdx, sdy))\n",
    "                    x += dx\n",
    "                    y += dy\n",
    "        p2 += len(region)*sides\n",
    "\n",
    "print(p1)\n",
    "print(p2)\n"
   ]
  }
 ],
 "metadata": {
  "kernelspec": {
   "display_name": "venv",
   "language": "python",
   "name": "python3"
  },
  "language_info": {
   "codemirror_mode": {
    "name": "ipython",
    "version": 3
   },
   "file_extension": ".py",
   "mimetype": "text/x-python",
   "name": "python",
   "nbconvert_exporter": "python",
   "pygments_lexer": "ipython3",
   "version": "3.12.3"
  }
 },
 "nbformat": 4,
 "nbformat_minor": 5
}
