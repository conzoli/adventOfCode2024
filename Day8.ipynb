{
 "cells": [
  {
   "cell_type": "markdown",
   "id": "76c151a1-b26d-4102-a87e-a13faf050d1e",
   "metadata": {},
   "source": [
    "# Day 8 Part1"
   ]
  },
  {
   "cell_type": "code",
   "execution_count": 5,
   "id": "746313f5",
   "metadata": {},
   "outputs": [
    {
     "name": "stdout",
     "output_type": "stream",
     "text": [
      "409\n"
     ]
    }
   ],
   "source": [
    "from collections import defaultdict\n",
    "from itertools import combinations \n",
    "\n",
    "\n",
    "def part1(puzzle_input):\n",
    "    grid = puzzle_input.split()\n",
    "    locations = defaultdict(set)\n",
    "    m, n = len(grid), len(grid[0])\n",
    "    for r in range(m):\n",
    "        for c in range(n):\n",
    "            if grid[r][c] != '.':\n",
    "                locations[grid[r][c]].add((r, c))\n",
    "\n",
    "    antinodes = set()\n",
    "    for loc in locations.values():\n",
    "        for (a, b), (c, d) in combinations(loc, 2):\n",
    "            dr = a - c\n",
    "            dc = b - d\n",
    "            for r, c in [(a+dr, b+dc), (c-dr, d-dc)]:\n",
    "                if r in range(m) and c in range(n):\n",
    "                    antinodes.add((r, c))\n",
    "         \n",
    "    return len(antinodes)\n",
    "\n",
    "\n",
    "EXAMPLE_GRID = \"\"\"\n",
    "............\n",
    "........0...\n",
    ".....0......\n",
    ".......0....\n",
    "....0.......\n",
    "......A.....\n",
    "............\n",
    "............\n",
    "........A...\n",
    ".........A..\n",
    "............\n",
    "............\n",
    "\"\"\"\n",
    "\n",
    "with open(\"Input/InputDay8P1.txt\", \"r\") as f:\n",
    "    inputData = f.read()\n",
    "\n",
    "print( part1(inputData) )\n"
   ]
  },
  {
   "cell_type": "code",
   "execution_count": 9,
   "id": "3d12c6f1",
   "metadata": {},
   "outputs": [
    {
     "name": "stdout",
     "output_type": "stream",
     "text": [
      "Result: 1308\n"
     ]
    }
   ],
   "source": [
    "import numpy as np\n",
    "from itertools import product\n",
    "\n",
    "dict_antenna_positions = {}\n",
    "set_antinodes = set()\n",
    "\n",
    "def append_antenna_position(frequency, row, col):\n",
    "    if frequency == '.':\n",
    "        return\n",
    "    pos = np.array([row, col])\n",
    "    if frequency in dict_antenna_positions:\n",
    "        dict_antenna_positions[frequency].append(pos)\n",
    "    else:\n",
    "        dict_antenna_positions[frequency] = [pos]\n",
    "\n",
    "def in_bound(pos, row_count, col_count):\n",
    "    return pos[0] >= 0 and pos[1] >= 0 and pos[0] < row_count and pos[1] < col_count\n",
    "\n",
    "def check_antinodes(frequency, row_count, col_count):\n",
    "    pairs = [(pos1, pos2) for pos1, pos2 in product(dict_antenna_positions[frequency], repeat = 2) if any(pos1 != pos2)]\n",
    "    for pair in pairs:\n",
    "        v_dir = pair[1] - pair[0]\n",
    "        pos_antinode = pair[1].copy()\n",
    "        while in_bound(pos_antinode, row_count, col_count):\n",
    "            set_antinodes.add(tuple(pos_antinode))\n",
    "            pos_antinode += v_dir\n",
    "\n",
    "def calculate_unique_antinodes(data):\n",
    "    # Read all antenna positions and put them into a dict: frequency -> list of positions\n",
    "    for row, row_data in enumerate(data):\n",
    "        for col, frequency in enumerate(row_data):\n",
    "            append_antenna_position(frequency, row, col)\n",
    "\n",
    "    # Calculate grid size\n",
    "    row_count, col_count = len(data), len(data[0])\n",
    "\n",
    "    # Calculate the antinodes for each frequency and add them to the result set\n",
    "    for frequency in dict_antenna_positions:\n",
    "        check_antinodes(frequency, row_count, col_count)\n",
    "\n",
    "    return len(set_antinodes)\n",
    "\n",
    "\n",
    "file_path = 'Input/InputDay8P1.txt'\n",
    "\n",
    "with open(file_path, 'r') as file:\n",
    "    lines = file.readlines()\n",
    "    \n",
    "data = [list(line.strip()) for line in lines] # Read as grid of characters\n",
    "\n",
    "print('Result:', calculate_unique_antinodes(data))"
   ]
  }
 ],
 "metadata": {
  "kernelspec": {
   "display_name": "venv",
   "language": "python",
   "name": "python3"
  },
  "language_info": {
   "codemirror_mode": {
    "name": "ipython",
    "version": 3
   },
   "file_extension": ".py",
   "mimetype": "text/x-python",
   "name": "python",
   "nbconvert_exporter": "python",
   "pygments_lexer": "ipython3",
   "version": "3.12.3"
  }
 },
 "nbformat": 4,
 "nbformat_minor": 5
}
