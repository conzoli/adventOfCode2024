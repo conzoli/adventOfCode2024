{
 "cells": [
  {
   "cell_type": "markdown",
   "id": "271d3175-b72e-43c6-bf99-53f0e2c9b019",
   "metadata": {},
   "source": [
    "# Day 9 Part 1"
   ]
  },
  {
   "cell_type": "code",
   "execution_count": 2,
   "id": "d087c2c1",
   "metadata": {},
   "outputs": [
    {
     "name": "stdout",
     "output_type": "stream",
     "text": [
      "6385338159127\n"
     ]
    }
   ],
   "source": [
    "# ai gave no correct answer!\n",
    "\n",
    "with open(\"Input/InputDay9P1.txt\", \"r\") as f:\n",
    "    disk_map = list(\"\".join(x.strip() for x in f))\n",
    "\n",
    "#example_input = \"2333133121414131402\"\n",
    "\n",
    "#disk_map =  list(\"\".join(x.strip() for x in example_input))\n",
    "\n",
    "\n",
    "expanded = []\n",
    "for i, r in enumerate(disk_map):\n",
    "    if i % 2 == 0:\n",
    "        for k in range(int(r)):\n",
    "            expanded.append(f\"{i // 2}\")\n",
    "    else:\n",
    "        for k in range(int(r)):\n",
    "            expanded.append(\".\")\n",
    "\n",
    "free_ptr = 0\n",
    "end_ptr = len(expanded) - 1\n",
    "\n",
    "while free_ptr < end_ptr:\n",
    "    while expanded[free_ptr] != \".\":\n",
    "        free_ptr += 1\n",
    "    while expanded[end_ptr] == \".\":\n",
    "        end_ptr -= 1\n",
    "\n",
    "    expanded[free_ptr] = expanded[end_ptr]\n",
    "    expanded[end_ptr] = \".\"\n",
    "    \n",
    "    free_ptr += 1\n",
    "    end_ptr -= 1\n",
    "\n",
    "s = [e for e in expanded if e != \".\"]\n",
    "res = sum(i * int(k) for i, k in enumerate(s))\n",
    "print(res)"
   ]
  },
  {
   "cell_type": "code",
   "execution_count": 5,
   "id": "05be0c45",
   "metadata": {},
   "outputs": [
    {
     "name": "stdout",
     "output_type": "stream",
     "text": [
      "6415163624282\n"
     ]
    }
   ],
   "source": [
    "with open(\"Input/InputDay9P1.txt\", \"r\") as f:\n",
    "    disk_code = [int(i) for i in \"\".join(x.strip() for x in f)]\n",
    "\n",
    "#example_input = \"2333133121414131402\"\n",
    "#disk_code = [int(i) for i in \"\".join(x.strip() for x in example_input)]\n",
    "\n",
    "d = {}\n",
    "frees = []\n",
    "\n",
    "counter = 0\n",
    "for i, r in enumerate(disk_code):\n",
    "    start, end = counter, counter + r\n",
    "    if i % 2 == 0:\n",
    "        d[i//2] = (start, end)\n",
    "    elif r > 0:\n",
    "        frees.append((start, end))\n",
    "    counter += r\n",
    "\n",
    "# Observation:\n",
    "#   We never move files from left to right.\n",
    "#   Therefore, when moving a file, I do not care about the gap that file leaves at its source location.\n",
    "#   Therefore, I do not track these gaps.\n",
    "\n",
    "# Two pointers: \n",
    "#   One that is tracking the file index and moves from the highest file index to 0.\n",
    "#   One that is searching for the next free gap and repeatedly runs from 0 to the start of the current file.\n",
    "\n",
    "idx_ptr = max(d.keys())\n",
    "\n",
    "while idx_ptr >= 0:\n",
    "    file_start, file_end = d[idx_ptr]\n",
    "    file_len = file_end - file_start\n",
    "\n",
    "    free_ptr = 0\n",
    "    while free_ptr < len(frees):\n",
    "        gap_start, gap_end = frees[free_ptr]\n",
    "        if gap_start >= file_start:\n",
    "            break\n",
    "\n",
    "        gap_len = gap_end - gap_start\n",
    "        if file_len <= gap_len:\n",
    "            frees.pop(free_ptr)\n",
    "\n",
    "            new_file_start, new_file_end = gap_start, gap_start + file_len\n",
    "            new_gap_start, new_gap_end = new_file_end, gap_end\n",
    "\n",
    "            d[idx_ptr] = (new_file_start, new_file_end)\n",
    "            if new_gap_start != new_gap_end:\n",
    "                frees.insert(free_ptr, (new_gap_start, new_gap_end))\n",
    "            break\n",
    "        else:\n",
    "            free_ptr += 1\n",
    "\n",
    "    idx_ptr -= 1\n",
    "\n",
    "res = 0\n",
    "for k, (start, end) in d.items():\n",
    "    res += sum(k*i for i in range(start, end))\n",
    "print(res)"
   ]
  }
 ],
 "metadata": {
  "kernelspec": {
   "display_name": "venv",
   "language": "python",
   "name": "python3"
  },
  "language_info": {
   "codemirror_mode": {
    "name": "ipython",
    "version": 3
   },
   "file_extension": ".py",
   "mimetype": "text/x-python",
   "name": "python",
   "nbconvert_exporter": "python",
   "pygments_lexer": "ipython3",
   "version": "3.12.3"
  }
 },
 "nbformat": 4,
 "nbformat_minor": 5
}
