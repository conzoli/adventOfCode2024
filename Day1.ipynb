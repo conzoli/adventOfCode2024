{
 "cells": [
  {
   "cell_type": "markdown",
   "id": "374cabbf-a57a-4e03-80e1-7c9ecd24e1f1",
   "metadata": {},
   "source": [
    "# Day One P1"
   ]
  },
  {
   "cell_type": "code",
   "execution_count": 1,
   "id": "23865ee5",
   "metadata": {},
   "outputs": [
    {
     "name": "stdout",
     "output_type": "stream",
     "text": [
      "The total distance between the lists is: 11\n"
     ]
    }
   ],
   "source": [
    "def calculate_distance(left_list, right_list):\n",
    "    # Sort both lists to ensure we pair smallest with smallest, second smallest with second smallest, etc.\n",
    "    left_list.sort()\n",
    "    right_list.sort()\n",
    "\n",
    "    # Calculate the sum of absolute differences between corresponding elements\n",
    "    total_distance = sum(abs(a - b) for a, b in zip(left_list, right_list))\n",
    "\n",
    "    return total_distance\n",
    "\n",
    "# Example usage:\n",
    "left_list = [3, 4, 2, 1, 3, 3]\n",
    "right_list = [4, 3, 5, 9, 3, 3]\n",
    "\n",
    "distance = calculate_distance(left_list, right_list)\n",
    "print(f\"The total distance between the lists is: {distance}\")"
   ]
  },
  {
   "cell_type": "markdown",
   "id": "8f9a44ec",
   "metadata": {},
   "source": [
    "## load input"
   ]
  },
  {
   "cell_type": "code",
   "execution_count": 8,
   "id": "4dababfe",
   "metadata": {},
   "outputs": [],
   "source": [
    "# Define the path to the file\n",
    "file_path = 'Input/InputDay1P1.txt'\n",
    "\n",
    "left_input_list = []\n",
    "right_input_list = []\n",
    "\n",
    "# Initialize an empty list to store all lines\n",
    "all_lines = []\n",
    "\n",
    "# Open the file and read its contents line by line\n",
    "with open(file_path, 'r') as file:\n",
    "    for line in file:\n",
    "        # Strip newline characters and split the line by commas\n",
    "        values = line.strip().split()\n",
    "        # Append the list of values to the all_lines list\n",
    "        all_lines.append(values)\n",
    "\n",
    "for line in all_lines:\n",
    "    left_input_list.append(int(line[0]))\n",
    "    right_input_list.append(int(line[1]))\n",
    "\n",
    "\n",
    "\n"
   ]
  },
  {
   "cell_type": "code",
   "execution_count": 9,
   "id": "3812fb25",
   "metadata": {},
   "outputs": [
    {
     "name": "stdout",
     "output_type": "stream",
     "text": [
      "The total distance between the lists is: 765748\n"
     ]
    }
   ],
   "source": [
    "distance = calculate_distance(left_input_list, right_input_list)\n",
    "print(f\"The total distance between the lists is: {distance}\")"
   ]
  },
  {
   "cell_type": "markdown",
   "id": "957fc8c9",
   "metadata": {},
   "source": [
    "# Part 2"
   ]
  },
  {
   "cell_type": "code",
   "execution_count": 10,
   "id": "95c0d11b",
   "metadata": {},
   "outputs": [
    {
     "name": "stdout",
     "output_type": "stream",
     "text": [
      "The similarity score is: 31\n"
     ]
    }
   ],
   "source": [
    "from collections import Counter\n",
    "\n",
    "def calculate_similarity_score(left_list, right_list):\n",
    "    # Count the occurrences of each number in the right list\n",
    "    right_count = Counter(right_list)\n",
    "    \n",
    "    # Calculate the similarity score\n",
    "    similarity_score = sum(a * right_count[a] for a in left_list)\n",
    "    \n",
    "    return similarity_score\n",
    "\n",
    "# Example usage:\n",
    "left_list = [3, 4, 2, 1, 3, 3]\n",
    "right_list = [4, 3, 5, 9, 3, 3]\n",
    "\n",
    "similarity_score = calculate_similarity_score(left_list, right_list)\n",
    "print(f\"The similarity score is: {similarity_score}\")"
   ]
  },
  {
   "cell_type": "code",
   "execution_count": 11,
   "id": "5a1710a6",
   "metadata": {},
   "outputs": [
    {
     "name": "stdout",
     "output_type": "stream",
     "text": [
      "The similarity score is: 27732508\n"
     ]
    }
   ],
   "source": [
    "## With Input\n",
    "similarity_score = calculate_similarity_score(left_input_list, right_input_list)\n",
    "print(f\"The similarity score is: {similarity_score}\")"
   ]
  }
 ],
 "metadata": {
  "kernelspec": {
   "display_name": "venv",
   "language": "python",
   "name": "python3"
  },
  "language_info": {
   "codemirror_mode": {
    "name": "ipython",
    "version": 3
   },
   "file_extension": ".py",
   "mimetype": "text/x-python",
   "name": "python",
   "nbconvert_exporter": "python",
   "pygments_lexer": "ipython3",
   "version": "3.12.3"
  }
 },
 "nbformat": 4,
 "nbformat_minor": 5
}
