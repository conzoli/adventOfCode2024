{
 "cells": [
  {
   "cell_type": "markdown",
   "id": "172f7044-f902-41c4-bb25-5d555e90b7d5",
   "metadata": {},
   "source": [
    "# Day 25"
   ]
  },
  {
   "cell_type": "code",
   "execution_count": 5,
   "id": "6cc97524",
   "metadata": {},
   "outputs": [
    {
     "name": "stdout",
     "output_type": "stream",
     "text": [
      "3133\n"
     ]
    }
   ],
   "source": [
    "import urllib.request\n",
    "from os import getenv\n",
    "\n",
    "\n",
    "def schematic(grid: list[str]) -> list[int]:\n",
    "    return [\n",
    "        sum(1 for row in range(len(grid)) if grid[row][col] == \"#\")\n",
    "        for col in range(len(grid[0]))\n",
    "    ]\n",
    "\n",
    "\n",
    "def locks_keys(filename: str) -> tuple[list[list[int]], list[list[int]]]:\n",
    "    data = [x.splitlines() for x in open(filename).read().split(\"\\n\\n\")]\n",
    "\n",
    "    locks = list(map(schematic, [d for d in data if d[0].count(\".\") == 0]))\n",
    "    keys = list(map(schematic, [d for d in data if d[-1].count(\".\") == 0]))\n",
    "\n",
    "    return locks, keys\n",
    "\n",
    "\n",
    "def can_fit(lock: list[int], key: list[int]) -> bool:\n",
    "    return all(l + k <= 7 for l, k in zip(lock, key))\n",
    "\n",
    "\n",
    "def part_1() -> int:\n",
    "    locks, keys = locks_keys(\"Input/InputDay25P1.txt\")\n",
    "    return sum(1 for lock in locks for key in keys if can_fit(lock, key))\n",
    "\n",
    "\n",
    "\n",
    "\n",
    "\n",
    "print(part_1())\n"
   ]
  }
 ],
 "metadata": {
  "kernelspec": {
   "display_name": "venv",
   "language": "python",
   "name": "python3"
  },
  "language_info": {
   "codemirror_mode": {
    "name": "ipython",
    "version": 3
   },
   "file_extension": ".py",
   "mimetype": "text/x-python",
   "name": "python",
   "nbconvert_exporter": "python",
   "pygments_lexer": "ipython3",
   "version": "3.12.3"
  }
 },
 "nbformat": 4,
 "nbformat_minor": 5
}
