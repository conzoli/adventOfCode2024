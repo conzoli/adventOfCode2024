{
 "cells": [
  {
   "cell_type": "markdown",
   "id": "5e6facf3",
   "metadata": {},
   "source": [
    "# Day 3 Part 1"
   ]
  },
  {
   "cell_type": "code",
   "execution_count": null,
   "id": "29f5ccaf",
   "metadata": {},
   "outputs": [],
   "source": [
    "import re\n",
    "\n",
    "#memory = \"\"\"xmul(2,4)%&mul[3,7]!@^do_not_mul(5,5)+mul(32,64]then(mul(11,8)mul(8,5))\"\"\"\n",
    "with open(\"Input/InputDay3P1.txt\", \"r\") as f:\n",
    "     memory = f.read() \n",
    "\n",
    "# Define a regular expression to find valid mul instructions\n",
    "pattern = r\"mul\\(([\\d]+),([\\d]+)\\)\"\n",
    "\n",
    "# Find all matches in the memory\n",
    "matches = re.findall(pattern, memory)\n",
    "\n",
    "# Calculate and sum the results of each multiplication\n",
    "total_sum = 0\n",
    "for match in matches:\n",
    "    x = int(match[0])\n",
    "    y = int(match[1])\n",
    "    total_sum += x * y\n",
    "\n",
    "print(f\"The sum of all multiplication results is: {total_sum}\")"
   ]
  },
  {
   "cell_type": "markdown",
   "id": "504876ac",
   "metadata": {},
   "source": [
    "# Part 2"
   ]
  },
  {
   "cell_type": "code",
   "execution_count": 42,
   "id": "f458fe37",
   "metadata": {},
   "outputs": [
    {
     "name": "stdout",
     "output_type": "stream",
     "text": [
      "107862689\n"
     ]
    }
   ],
   "source": [
    "import re\n",
    "\n",
    "with open(\"Input/InputDay3P1.txt\", \"r\") as f:\n",
    "    data = f.read()\n",
    "\n",
    "#data = \"\"\"\n",
    "#xmul(2,4)&mul[3,7]!^don't()_mul(5,5)+mul(32,64](mul(11,8)undo()?mul(8,5))\n",
    "#\"\"\"\n",
    "\n",
    "pattern = r\"mul\\(\\d+,\\d+\\)|do\\(+\\)|don\\'t\\(+\\)\"\n",
    "instructions = re.findall(pattern, data)\n",
    "\n",
    "total_sum = 0\n",
    "flag = True\n",
    "for s in instructions:    \n",
    "    if s == \"don't()\":\n",
    "        flag = False\n",
    "    elif s == \"do()\":\n",
    "        flag = True\n",
    "    elif flag:\n",
    "        nums = s[4:-1].split(\",\")\n",
    "        total_sum += int(nums[0]) * int(nums[1])\n",
    "\n",
    "print(total_sum)"
   ]
  }
 ],
 "metadata": {
  "kernelspec": {
   "display_name": "venv",
   "language": "python",
   "name": "python3"
  },
  "language_info": {
   "codemirror_mode": {
    "name": "ipython",
    "version": 3
   },
   "file_extension": ".py",
   "mimetype": "text/x-python",
   "name": "python",
   "nbconvert_exporter": "python",
   "pygments_lexer": "ipython3",
   "version": "3.12.3"
  }
 },
 "nbformat": 4,
 "nbformat_minor": 5
}
